{
 "cells": [
  {
   "cell_type": "code",
   "execution_count": 1,
   "metadata": {
    "ExecuteTime": {
     "end_time": "2020-06-03T16:13:52.093906Z",
     "start_time": "2020-06-03T16:13:29.610304Z"
    }
   },
   "outputs": [],
   "source": [
    "import sklearn\n",
    "from sklearn.model_selection import train_test_split\n",
    "from sklearn.linear_model import LogisticRegression\n",
    "from sklearn.ensemble import RandomForestClassifier\n",
    "from sklearn import metrics\n",
    "from sklearn.metrics import precision_recall_curve\n",
    "from sklearn.metrics import confusion_matrix\n",
    "from sklearn.metrics import roc_curve, auc\n",
    "from sklearn.metrics import precision_score, recall_score, accuracy_score, f1_score, classification_report\n",
    "from sklearn.preprocessing import StandardScaler\n",
    "from sklearn.model_selection import cross_val_score\n",
    "from sklearn.naive_bayes import GaussianNB\n",
    "\n",
    "from category_encoders import TargetEncoder\n",
    "from category_encoders import OneHotEncoder\n",
    "import xgboost as xgb\n",
    "\n",
    "import pandas as pd\n",
    "import seaborn as sns\n",
    "import numpy as np\n",
    "import itertools\n",
    "import matplotlib.pyplot as plt\n",
    "%matplotlib inline"
   ]
  },
  {
   "cell_type": "code",
   "execution_count": 2,
   "metadata": {
    "ExecuteTime": {
     "end_time": "2020-06-03T16:13:52.340183Z",
     "start_time": "2020-06-03T16:13:52.097290Z"
    }
   },
   "outputs": [],
   "source": [
    "df = pd.read_csv('gender-classifier-DFE-791531.csv', encoding='latin1')"
   ]
  },
  {
   "cell_type": "code",
   "execution_count": 3,
   "metadata": {
    "ExecuteTime": {
     "end_time": "2020-06-03T16:13:52.366439Z",
     "start_time": "2020-06-03T16:13:52.342767Z"
    }
   },
   "outputs": [],
   "source": [
    "df = df[['_golden', '_unit_state', '_trusted_judgments', '_last_judgment_at', 'gender', 'profile_yn', 'created',\n",
    "       'fav_number', 'link_color', 'name', 'retweet_count', 'sidebar_color', 'tweet_count']].copy()"
   ]
  },
  {
   "cell_type": "code",
   "execution_count": 4,
   "metadata": {
    "ExecuteTime": {
     "end_time": "2020-06-03T16:13:54.708200Z",
     "start_time": "2020-06-03T16:13:52.373213Z"
    }
   },
   "outputs": [],
   "source": [
    "df['_last_judgment_at'] = pd.to_datetime(df['_last_judgment_at'])\n",
    "df['created'] = pd.to_datetime(df['created'])"
   ]
  },
  {
   "cell_type": "code",
   "execution_count": 5,
   "metadata": {
    "ExecuteTime": {
     "end_time": "2020-06-03T16:13:54.726014Z",
     "start_time": "2020-06-03T16:13:54.710008Z"
    }
   },
   "outputs": [],
   "source": [
    "df['target'] = df['gender'].map(lambda x: 1 if x == 'male' else 0)"
   ]
  },
  {
   "cell_type": "code",
   "execution_count": 6,
   "metadata": {
    "ExecuteTime": {
     "end_time": "2020-06-03T16:13:54.755236Z",
     "start_time": "2020-06-03T16:13:54.729234Z"
    }
   },
   "outputs": [],
   "source": [
    "df = df[(df['gender'] == 'male') | (df['gender'] == 'female')]"
   ]
  },
  {
   "cell_type": "code",
   "execution_count": 7,
   "metadata": {
    "ExecuteTime": {
     "end_time": "2020-06-03T16:13:54.767868Z",
     "start_time": "2020-06-03T16:13:54.757352Z"
    }
   },
   "outputs": [],
   "source": [
    "df['gender'] = df['gender'].astype(str)"
   ]
  },
  {
   "cell_type": "code",
   "execution_count": 8,
   "metadata": {
    "ExecuteTime": {
     "end_time": "2020-06-03T16:13:54.788258Z",
     "start_time": "2020-06-03T16:13:54.774448Z"
    }
   },
   "outputs": [],
   "source": [
    "df.drop('gender', axis=1, inplace=True)"
   ]
  },
  {
   "cell_type": "code",
   "execution_count": 9,
   "metadata": {
    "ExecuteTime": {
     "end_time": "2020-06-03T16:13:54.821968Z",
     "start_time": "2020-06-03T16:13:54.791887Z"
    }
   },
   "outputs": [],
   "source": [
    "df['_golden'] = df['_golden'].map(lambda x: 1 if x == 'True' else 0)"
   ]
  },
  {
   "cell_type": "code",
   "execution_count": 11,
   "metadata": {
    "ExecuteTime": {
     "end_time": "2020-06-03T16:13:54.880162Z",
     "start_time": "2020-06-03T16:13:54.849033Z"
    }
   },
   "outputs": [],
   "source": [
    "df['_unit_state'] = df['_unit_state'].map(lambda x: 1 if x == 'finalized' else 0)"
   ]
  },
  {
   "cell_type": "code",
   "execution_count": 13,
   "metadata": {
    "ExecuteTime": {
     "end_time": "2020-06-03T16:13:55.020017Z",
     "start_time": "2020-06-03T16:13:55.006302Z"
    }
   },
   "outputs": [],
   "source": [
    "df['_last_judgment_at'] = df['_last_judgment_at'].fillna(df['_last_judgment_at'].mean())"
   ]
  },
  {
   "cell_type": "code",
   "execution_count": 14,
   "metadata": {
    "ExecuteTime": {
     "end_time": "2020-06-03T16:13:55.029121Z",
     "start_time": "2020-06-03T16:13:55.021814Z"
    }
   },
   "outputs": [],
   "source": [
    "df['judge_hour'] = df['_last_judgment_at'].dt.hour"
   ]
  },
  {
   "cell_type": "code",
   "execution_count": 16,
   "metadata": {
    "ExecuteTime": {
     "end_time": "2020-06-03T16:15:14.030911Z",
     "start_time": "2020-06-03T16:15:14.015908Z"
    }
   },
   "outputs": [],
   "source": [
    "df.drop('_last_judgment_at', axis=1, inplace=True)"
   ]
  },
  {
   "cell_type": "code",
   "execution_count": 23,
   "metadata": {
    "ExecuteTime": {
     "end_time": "2020-06-03T16:17:52.326724Z",
     "start_time": "2020-06-03T16:17:52.313048Z"
    }
   },
   "outputs": [],
   "source": [
    "df['profile_yn'] = df['profile_yn'].map(lambda x: 1 if x == 'yes' else 0)"
   ]
  },
  {
   "cell_type": "code",
   "execution_count": 26,
   "metadata": {
    "ExecuteTime": {
     "end_time": "2020-06-03T16:18:49.482255Z",
     "start_time": "2020-06-03T16:18:49.473717Z"
    }
   },
   "outputs": [],
   "source": [
    "df['created_hr'] = df['created'].dt.hour"
   ]
  },
  {
   "cell_type": "code",
   "execution_count": 27,
   "metadata": {
    "ExecuteTime": {
     "end_time": "2020-06-03T16:19:08.275449Z",
     "start_time": "2020-06-03T16:19:08.270086Z"
    }
   },
   "outputs": [],
   "source": [
    "df.drop('created', axis=1, inplace=True)"
   ]
  },
  {
   "cell_type": "code",
   "execution_count": 28,
   "metadata": {
    "ExecuteTime": {
     "end_time": "2020-06-03T16:19:15.184792Z",
     "start_time": "2020-06-03T16:19:15.145626Z"
    }
   },
   "outputs": [
    {
     "data": {
      "text/html": [
       "<div>\n",
       "<style scoped>\n",
       "    .dataframe tbody tr th:only-of-type {\n",
       "        vertical-align: middle;\n",
       "    }\n",
       "\n",
       "    .dataframe tbody tr th {\n",
       "        vertical-align: top;\n",
       "    }\n",
       "\n",
       "    .dataframe thead th {\n",
       "        text-align: right;\n",
       "    }\n",
       "</style>\n",
       "<table border=\"1\" class=\"dataframe\">\n",
       "  <thead>\n",
       "    <tr style=\"text-align: right;\">\n",
       "      <th></th>\n",
       "      <th>_golden</th>\n",
       "      <th>_unit_state</th>\n",
       "      <th>_trusted_judgments</th>\n",
       "      <th>profile_yn</th>\n",
       "      <th>fav_number</th>\n",
       "      <th>link_color</th>\n",
       "      <th>name</th>\n",
       "      <th>retweet_count</th>\n",
       "      <th>sidebar_color</th>\n",
       "      <th>tweet_count</th>\n",
       "      <th>target</th>\n",
       "      <th>judge_hour</th>\n",
       "      <th>created_hr</th>\n",
       "    </tr>\n",
       "  </thead>\n",
       "  <tbody>\n",
       "    <tr>\n",
       "      <th>18126</th>\n",
       "      <td>0</td>\n",
       "      <td>1</td>\n",
       "      <td>3</td>\n",
       "      <td>1</td>\n",
       "      <td>1846</td>\n",
       "      <td>0084B4</td>\n",
       "      <td>ainsleighg01</td>\n",
       "      <td>0</td>\n",
       "      <td>C0DEED</td>\n",
       "      <td>3201</td>\n",
       "      <td>0</td>\n",
       "      <td>22</td>\n",
       "      <td>14</td>\n",
       "    </tr>\n",
       "    <tr>\n",
       "      <th>13342</th>\n",
       "      <td>0</td>\n",
       "      <td>1</td>\n",
       "      <td>3</td>\n",
       "      <td>1</td>\n",
       "      <td>210</td>\n",
       "      <td>EB15E4</td>\n",
       "      <td>WamShitcomb</td>\n",
       "      <td>0</td>\n",
       "      <td>EEEEEE</td>\n",
       "      <td>19955</td>\n",
       "      <td>0</td>\n",
       "      <td>0</td>\n",
       "      <td>22</td>\n",
       "    </tr>\n",
       "    <tr>\n",
       "      <th>19099</th>\n",
       "      <td>0</td>\n",
       "      <td>1</td>\n",
       "      <td>3</td>\n",
       "      <td>1</td>\n",
       "      <td>343</td>\n",
       "      <td>990000</td>\n",
       "      <td>SoFire</td>\n",
       "      <td>0</td>\n",
       "      <td>0</td>\n",
       "      <td>82852</td>\n",
       "      <td>0</td>\n",
       "      <td>0</td>\n",
       "      <td>8</td>\n",
       "    </tr>\n",
       "    <tr>\n",
       "      <th>2389</th>\n",
       "      <td>0</td>\n",
       "      <td>1</td>\n",
       "      <td>3</td>\n",
       "      <td>1</td>\n",
       "      <td>739</td>\n",
       "      <td>0084B4</td>\n",
       "      <td>tayloralyssum</td>\n",
       "      <td>0</td>\n",
       "      <td>C0DEED</td>\n",
       "      <td>3916</td>\n",
       "      <td>0</td>\n",
       "      <td>23</td>\n",
       "      <td>17</td>\n",
       "    </tr>\n",
       "    <tr>\n",
       "      <th>1107</th>\n",
       "      <td>0</td>\n",
       "      <td>1</td>\n",
       "      <td>3</td>\n",
       "      <td>1</td>\n",
       "      <td>14</td>\n",
       "      <td>89C9FA</td>\n",
       "      <td>OstapKohlstein</td>\n",
       "      <td>0</td>\n",
       "      <td>0</td>\n",
       "      <td>1373</td>\n",
       "      <td>1</td>\n",
       "      <td>22</td>\n",
       "      <td>4</td>\n",
       "    </tr>\n",
       "  </tbody>\n",
       "</table>\n",
       "</div>"
      ],
      "text/plain": [
       "       _golden  _unit_state  _trusted_judgments  profile_yn  fav_number  \\\n",
       "18126        0            1                   3           1        1846   \n",
       "13342        0            1                   3           1         210   \n",
       "19099        0            1                   3           1         343   \n",
       "2389         0            1                   3           1         739   \n",
       "1107         0            1                   3           1          14   \n",
       "\n",
       "      link_color            name  retweet_count sidebar_color  tweet_count  \\\n",
       "18126     0084B4    ainsleighg01              0        C0DEED         3201   \n",
       "13342     EB15E4     WamShitcomb              0        EEEEEE        19955   \n",
       "19099     990000          SoFire              0             0        82852   \n",
       "2389      0084B4   tayloralyssum              0        C0DEED         3916   \n",
       "1107      89C9FA  OstapKohlstein              0             0         1373   \n",
       "\n",
       "       target  judge_hour  created_hr  \n",
       "18126       0          22          14  \n",
       "13342       0           0          22  \n",
       "19099       0           0           8  \n",
       "2389        0          23          17  \n",
       "1107        1          22           4  "
      ]
     },
     "execution_count": 28,
     "metadata": {},
     "output_type": "execute_result"
    }
   ],
   "source": [
    "df.sample(5)"
   ]
  },
  {
   "cell_type": "code",
   "execution_count": 29,
   "metadata": {
    "ExecuteTime": {
     "end_time": "2020-06-03T16:20:18.570529Z",
     "start_time": "2020-06-03T16:20:18.557560Z"
    }
   },
   "outputs": [],
   "source": [
    "df.drop('name', axis=1, inplace=True)"
   ]
  },
  {
   "cell_type": "code",
   "execution_count": 30,
   "metadata": {
    "ExecuteTime": {
     "end_time": "2020-06-03T16:21:47.363757Z",
     "start_time": "2020-06-03T16:21:47.343157Z"
    }
   },
   "outputs": [],
   "source": [
    "X = df.drop(['target'], axis=1)\n",
    "y = df['target']\n",
    "\n",
    "X_train, X_test, y_train, y_test = train_test_split(X, y, test_size = 0.25, random_state=25)"
   ]
  },
  {
   "cell_type": "code",
   "execution_count": 31,
   "metadata": {
    "ExecuteTime": {
     "end_time": "2020-06-03T16:22:30.854157Z",
     "start_time": "2020-06-03T16:22:30.572383Z"
    }
   },
   "outputs": [],
   "source": [
    "enc = TargetEncoder()\n",
    "data_train = enc.fit_transform(X_train, y_train)\n",
    "data_test = enc.transform(X_test)"
   ]
  },
  {
   "cell_type": "markdown",
   "metadata": {},
   "source": [
    "# Random Forest Classifier"
   ]
  },
  {
   "cell_type": "code",
   "execution_count": 34,
   "metadata": {
    "ExecuteTime": {
     "end_time": "2020-06-03T16:24:47.974273Z",
     "start_time": "2020-06-03T16:24:46.435094Z"
    }
   },
   "outputs": [
    {
     "data": {
      "text/plain": [
       "RandomForestClassifier(bootstrap=True, ccp_alpha=0.0, class_weight=None,\n",
       "                       criterion='gini', max_depth=None, max_features='auto',\n",
       "                       max_leaf_nodes=None, max_samples=None,\n",
       "                       min_impurity_decrease=0.0, min_impurity_split=None,\n",
       "                       min_samples_leaf=1, min_samples_split=2,\n",
       "                       min_weight_fraction_leaf=0.0, n_estimators=100,\n",
       "                       n_jobs=None, oob_score=False, random_state=None,\n",
       "                       verbose=0, warm_start=False)"
      ]
     },
     "execution_count": 34,
     "metadata": {},
     "output_type": "execute_result"
    }
   ],
   "source": [
    "rfc = RandomForestClassifier()\n",
    "rfc.fit(data_train, y_train)"
   ]
  },
  {
   "cell_type": "code",
   "execution_count": 35,
   "metadata": {
    "ExecuteTime": {
     "end_time": "2020-06-03T16:25:48.328443Z",
     "start_time": "2020-06-03T16:25:48.156874Z"
    }
   },
   "outputs": [],
   "source": [
    "y_pred_rfc = rfc.predict(data_test)"
   ]
  },
  {
   "cell_type": "code",
   "execution_count": 37,
   "metadata": {
    "ExecuteTime": {
     "end_time": "2020-06-03T16:26:17.710036Z",
     "start_time": "2020-06-03T16:26:17.687859Z"
    }
   },
   "outputs": [
    {
     "name": "stdout",
     "output_type": "stream",
     "text": [
      "              precision    recall  f1-score   support\n",
      "\n",
      "           0       0.62      0.65      0.64      1683\n",
      "           1       0.60      0.57      0.58      1541\n",
      "\n",
      "    accuracy                           0.61      3224\n",
      "   macro avg       0.61      0.61      0.61      3224\n",
      "weighted avg       0.61      0.61      0.61      3224\n",
      "\n"
     ]
    }
   ],
   "source": [
    "print(classification_report(y_test, y_pred_rfc))"
   ]
  },
  {
   "cell_type": "code",
   "execution_count": 38,
   "metadata": {
    "ExecuteTime": {
     "end_time": "2020-06-03T16:26:57.847285Z",
     "start_time": "2020-06-03T16:26:57.825826Z"
    }
   },
   "outputs": [
    {
     "name": "stdout",
     "output_type": "stream",
     "text": [
      "Null score: 0.5220223325062034\n"
     ]
    }
   ],
   "source": [
    "ns = 1 - y_test.mean()\n",
    "print(f'Null score: {ns}')"
   ]
  },
  {
   "cell_type": "code",
   "execution_count": 41,
   "metadata": {
    "ExecuteTime": {
     "end_time": "2020-06-03T16:27:54.861667Z",
     "start_time": "2020-06-03T16:27:54.193416Z"
    }
   },
   "outputs": [
    {
     "name": "stdout",
     "output_type": "stream",
     "text": [
      "Random Forest Classifier: f1=0.581 auc=0.622\n"
     ]
    },
    {
     "data": {
      "image/png": "[encoded data removed]",
      "text/plain": [
       "<Figure size 432x288 with 1 Axes>"
      ]
     },
     "metadata": {
      "needs_background": "light"
     },
     "output_type": "display_data"
    }
   ],
   "source": [
    "rfc_probs = rfc.predict_proba(data_test)\n",
    "# keep probabilities for the positive outcome only\n",
    "rfc_probs= rfc_probs[:, 1]\n",
    "# predict class values\n",
    "yhat = rfc.predict(data_test)\n",
    "rfc_precision, rfc_recall, _ = precision_recall_curve(y_test, rfc_probs)\n",
    "rfc_f1, rfc_auc = f1_score(y_test, y_pred_rfc), auc(rfc_recall, rfc_precision)\n",
    "# summarize scores\n",
    "print('Random Forest Classifier: f1=%.3f auc=%.3f' % (rfc_f1, rfc_auc))\n",
    "# plot the precision-recall curves\n",
    "no_skill = len(y_test[y_test==1]) / len(y_test)\n",
    "plt.plot([0, 1], [no_skill, no_skill], linestyle='--', label='No Skill')\n",
    "plt.plot(rfc_recall, rfc_precision, marker='.', label='Random Forest Classifier')\n",
    "# axis labels\n",
    "plt.xlabel('Recall')\n",
    "plt.ylabel('Precision')\n",
    "# show the legend\n",
    "plt.legend()\n",
    "# show the plot\n",
    "plt.show()"
   ]
  },
  {
   "cell_type": "code",
   "execution_count": 45,
   "metadata": {
    "ExecuteTime": {
     "end_time": "2020-06-03T16:32:42.717862Z",
     "start_time": "2020-06-03T16:32:42.317045Z"
    }
   },
   "outputs": [
    {
     "data": {
      "image/png": "[encoded data removed]",
      "text/plain": [
       "<Figure size 864x576 with 1 Axes>"
      ]
     },
     "metadata": {
      "needs_background": "light"
     },
     "output_type": "display_data"
    }
   ],
   "source": [
    "# Feature importance\n",
    "feat_importances = pd.Series(rfc.feature_importances_, index=data_train.columns)\n",
    "feat_importances.nlargest(15).plot(kind='barh', figsize=(12, 8))\n",
    "plt.show()"
   ]
  },
  {
   "cell_type": "markdown",
   "metadata": {},
   "source": [
    "# XGBoost"
   ]
  },
  {
   "cell_type": "code",
   "execution_count": 47,
   "metadata": {
    "ExecuteTime": {
     "end_time": "2020-06-03T16:36:30.017380Z",
     "start_time": "2020-06-03T16:36:28.959103Z"
    }
   },
   "outputs": [
    {
     "data": {
      "text/plain": [
       "XGBClassifier(base_score=0.5, booster='gbtree', colsample_bylevel=1,\n",
       "              colsample_bynode=1, colsample_bytree=1, gamma=0,\n",
       "              learning_rate=0.1, max_delta_step=0, max_depth=3,\n",
       "              min_child_weight=1, missing=None, n_estimators=100, n_jobs=1,\n",
       "              nthread=None, objective='binary:logistic', random_state=0,\n",
       "              reg_alpha=0, reg_lambda=1, scale_pos_weight=1, seed=None,\n",
       "              silent=None, subsample=1, verbosity=1)"
      ]
     },
     "execution_count": 47,
     "metadata": {},
     "output_type": "execute_result"
    }
   ],
   "source": [
    "xgb = xgb.XGBClassifier()\n",
    "xgb.fit(data_train, y_train)"
   ]
  },
  {
   "cell_type": "code",
   "execution_count": 48,
   "metadata": {
    "ExecuteTime": {
     "end_time": "2020-06-03T16:36:58.477847Z",
     "start_time": "2020-06-03T16:36:58.447826Z"
    }
   },
   "outputs": [],
   "source": [
    "y_pred_xgb = xgb.predict(data_test)"
   ]
  },
  {
   "cell_type": "code",
   "execution_count": 49,
   "metadata": {
    "ExecuteTime": {
     "end_time": "2020-06-03T16:37:07.793892Z",
     "start_time": "2020-06-03T16:37:07.763667Z"
    }
   },
   "outputs": [
    {
     "name": "stdout",
     "output_type": "stream",
     "text": [
      "              precision    recall  f1-score   support\n",
      "\n",
      "           0       0.64      0.62      0.63      1683\n",
      "           1       0.60      0.62      0.61      1541\n",
      "\n",
      "    accuracy                           0.62      3224\n",
      "   macro avg       0.62      0.62      0.62      3224\n",
      "weighted avg       0.62      0.62      0.62      3224\n",
      "\n"
     ]
    }
   ],
   "source": [
    "print(classification_report(y_test, y_pred_xgb))"
   ]
  },
  {
   "cell_type": "code",
   "execution_count": null,
   "metadata": {},
   "outputs": [],
   "source": []
  }
 ],
 "metadata": {
  "hide_input": false,
  "kernelspec": {
   "display_name": "Python [conda env:root]",
   "language": "python",
   "name": "conda-root-py"
  },
  "language_info": {
   "codemirror_mode": {
    "name": "ipython",
    "version": 3
   },
   "file_extension": ".py",
   "mimetype": "text/x-python",
   "name": "python",
   "nbconvert_exporter": "python",
   "pygments_lexer": "ipython3",
   "version": "3.7.4"
  }
 },
 "nbformat": 4,
 "nbformat_minor": 2
}
